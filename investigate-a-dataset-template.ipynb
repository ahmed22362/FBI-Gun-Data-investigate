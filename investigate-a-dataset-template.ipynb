{
 "cells": [
  {
   "cell_type": "markdown",
   "metadata": {},
   "source": [
    "\n",
    "\n",
    "\n",
    "# Project: FBI Gun Data\n",
    "\n",
    "## Table of Contents\n",
    "<ul>\n",
    "<li><a href=\"#intro\">Introduction</a></li>\n",
    "<li><a href=\"#wrangling\">Data Wrangling</a></li>\n",
    "<li><a href=\"#eda\">Exploratory Data Analysis</a></li>\n",
    "<li><a href=\"#conclusions\">Conclusions</a></li>\n",
    "</ul>"
   ]
  },
  {
   "cell_type": "markdown",
   "metadata": {},
   "source": [
    "<a id='intro'></a>\n",
    "## Introduction\n",
    "\n",
    "> The data comes from the FBI's National Instant Criminal Background Check System. The NICS is used by to determine whether a prospective buyer is eligible to buy firearms or explosives. Gun shops call into this system to ensure that each customer does not have a criminal record or isn’t otherwise ineligible to make a purchase. The data has been supplemented with state level data from census.gov."
   ]
  },
  {
   "cell_type": "markdown",
   "metadata": {},
   "source": [
    "### Qustions to explore\n",
    ">  Questions: \n",
    "   > - The highest purchages record happened in which state for the persons under 18 years, percent on April 1, 2010?\n",
    "   > - What state is most associated with high gun per capita in 2010 and 2016?\n",
    "   > - What is the estimated number of civilians gun registration per capita by states in 2010 and 2016?\n",
    "   > - Which states have had the highest growth in gun registrations? \n",
    "   > - What is the overall trend of gun purchases?\n",
    "   "
   ]
  },
  {
   "cell_type": "code",
   "execution_count": 5,
   "metadata": {},
   "outputs": [],
   "source": [
    "# This cell to set up import statements for all of the packages\n",
    "import pandas as pd\n",
    "import numpy as np\n",
    "import matplotlib.pyplot as plt\n",
    "%matplotlib inline\n",
    "\n",
    "gun_data = pd.read_csv('gun_data.csv')\n",
    "census_data = pd.read_csv('census_data.csv')"
   ]
  },
  {
   "cell_type": "markdown",
   "metadata": {},
   "source": [
    "<a id='wrangling'></a>\n",
    "## Data Wrangling\n",
    "\n",
    "> **Tip**: In this section of the report, you will load in the data, check for cleanliness, and then trim and clean your dataset for analysis. Make sure that you document your steps carefully and justify your cleaning decisions.\n",
    "\n",
    "### General Properties"
   ]
  },
  {
   "cell_type": "code",
   "execution_count": 2,
   "metadata": {
    "scrolled": true
   },
   "outputs": [
    {
     "data": {
      "text/html": [
       "<div>\n",
       "<style scoped>\n",
       "    .dataframe tbody tr th:only-of-type {\n",
       "        vertical-align: middle;\n",
       "    }\n",
       "\n",
       "    .dataframe tbody tr th {\n",
       "        vertical-align: top;\n",
       "    }\n",
       "\n",
       "    .dataframe thead th {\n",
       "        text-align: right;\n",
       "    }\n",
       "</style>\n",
       "<table border=\"1\" class=\"dataframe\">\n",
       "  <thead>\n",
       "    <tr style=\"text-align: right;\">\n",
       "      <th></th>\n",
       "      <th>Fact</th>\n",
       "      <th>Fact Note</th>\n",
       "      <th>Alabama</th>\n",
       "      <th>Alaska</th>\n",
       "      <th>Arizona</th>\n",
       "      <th>Arkansas</th>\n",
       "      <th>California</th>\n",
       "      <th>Colorado</th>\n",
       "      <th>Connecticut</th>\n",
       "      <th>Delaware</th>\n",
       "      <th>...</th>\n",
       "      <th>South Dakota</th>\n",
       "      <th>Tennessee</th>\n",
       "      <th>Texas</th>\n",
       "      <th>Utah</th>\n",
       "      <th>Vermont</th>\n",
       "      <th>Virginia</th>\n",
       "      <th>Washington</th>\n",
       "      <th>West Virginia</th>\n",
       "      <th>Wisconsin</th>\n",
       "      <th>Wyoming</th>\n",
       "    </tr>\n",
       "  </thead>\n",
       "  <tbody>\n",
       "    <tr>\n",
       "      <th>0</th>\n",
       "      <td>Population estimates, July 1, 2016,  (V2016)</td>\n",
       "      <td>NaN</td>\n",
       "      <td>4,863,300</td>\n",
       "      <td>741,894</td>\n",
       "      <td>6,931,071</td>\n",
       "      <td>2,988,248</td>\n",
       "      <td>39,250,017</td>\n",
       "      <td>5,540,545</td>\n",
       "      <td>3,576,452</td>\n",
       "      <td>952,065</td>\n",
       "      <td>...</td>\n",
       "      <td>865454</td>\n",
       "      <td>6651194</td>\n",
       "      <td>27,862,596</td>\n",
       "      <td>3,051,217</td>\n",
       "      <td>624,594</td>\n",
       "      <td>8,411,808</td>\n",
       "      <td>7,288,000</td>\n",
       "      <td>1,831,102</td>\n",
       "      <td>5,778,708</td>\n",
       "      <td>585,501</td>\n",
       "    </tr>\n",
       "    <tr>\n",
       "      <th>1</th>\n",
       "      <td>Population estimates base, April 1, 2010,  (V2...</td>\n",
       "      <td>NaN</td>\n",
       "      <td>4,780,131</td>\n",
       "      <td>710,249</td>\n",
       "      <td>6,392,301</td>\n",
       "      <td>2,916,025</td>\n",
       "      <td>37,254,522</td>\n",
       "      <td>5,029,324</td>\n",
       "      <td>3,574,114</td>\n",
       "      <td>897,936</td>\n",
       "      <td>...</td>\n",
       "      <td>814195</td>\n",
       "      <td>6346298</td>\n",
       "      <td>25,146,100</td>\n",
       "      <td>2,763,888</td>\n",
       "      <td>625,741</td>\n",
       "      <td>8,001,041</td>\n",
       "      <td>6,724,545</td>\n",
       "      <td>1,853,011</td>\n",
       "      <td>5,687,289</td>\n",
       "      <td>563,767</td>\n",
       "    </tr>\n",
       "    <tr>\n",
       "      <th>2</th>\n",
       "      <td>Population, percent change - April 1, 2010 (es...</td>\n",
       "      <td>NaN</td>\n",
       "      <td>1.70%</td>\n",
       "      <td>4.50%</td>\n",
       "      <td>8.40%</td>\n",
       "      <td>2.50%</td>\n",
       "      <td>5.40%</td>\n",
       "      <td>10.20%</td>\n",
       "      <td>0.10%</td>\n",
       "      <td>6.00%</td>\n",
       "      <td>...</td>\n",
       "      <td>0.063</td>\n",
       "      <td>0.048</td>\n",
       "      <td>10.80%</td>\n",
       "      <td>10.40%</td>\n",
       "      <td>-0.20%</td>\n",
       "      <td>5.10%</td>\n",
       "      <td>8.40%</td>\n",
       "      <td>-1.20%</td>\n",
       "      <td>1.60%</td>\n",
       "      <td>3.90%</td>\n",
       "    </tr>\n",
       "    <tr>\n",
       "      <th>3</th>\n",
       "      <td>Population, Census, April 1, 2010</td>\n",
       "      <td>NaN</td>\n",
       "      <td>4,779,736</td>\n",
       "      <td>710,231</td>\n",
       "      <td>6,392,017</td>\n",
       "      <td>2,915,918</td>\n",
       "      <td>37,253,956</td>\n",
       "      <td>5,029,196</td>\n",
       "      <td>3,574,097</td>\n",
       "      <td>897,934</td>\n",
       "      <td>...</td>\n",
       "      <td>814180</td>\n",
       "      <td>6346105</td>\n",
       "      <td>25,145,561</td>\n",
       "      <td>2,763,885</td>\n",
       "      <td>625,741</td>\n",
       "      <td>8,001,024</td>\n",
       "      <td>6,724,540</td>\n",
       "      <td>1,852,994</td>\n",
       "      <td>5,686,986</td>\n",
       "      <td>563,626</td>\n",
       "    </tr>\n",
       "    <tr>\n",
       "      <th>4</th>\n",
       "      <td>Persons under 5 years, percent, July 1, 2016, ...</td>\n",
       "      <td>NaN</td>\n",
       "      <td>6.00%</td>\n",
       "      <td>7.30%</td>\n",
       "      <td>6.30%</td>\n",
       "      <td>6.40%</td>\n",
       "      <td>6.30%</td>\n",
       "      <td>6.10%</td>\n",
       "      <td>5.20%</td>\n",
       "      <td>5.80%</td>\n",
       "      <td>...</td>\n",
       "      <td>0.071</td>\n",
       "      <td>0.061</td>\n",
       "      <td>7.20%</td>\n",
       "      <td>8.30%</td>\n",
       "      <td>4.90%</td>\n",
       "      <td>6.10%</td>\n",
       "      <td>6.20%</td>\n",
       "      <td>5.50%</td>\n",
       "      <td>5.80%</td>\n",
       "      <td>6.50%</td>\n",
       "    </tr>\n",
       "  </tbody>\n",
       "</table>\n",
       "<p>5 rows × 52 columns</p>\n",
       "</div>"
      ],
      "text/plain": [
       "                                                Fact Fact Note    Alabama  \\\n",
       "0       Population estimates, July 1, 2016,  (V2016)       NaN  4,863,300   \n",
       "1  Population estimates base, April 1, 2010,  (V2...       NaN  4,780,131   \n",
       "2  Population, percent change - April 1, 2010 (es...       NaN      1.70%   \n",
       "3                  Population, Census, April 1, 2010       NaN  4,779,736   \n",
       "4  Persons under 5 years, percent, July 1, 2016, ...       NaN      6.00%   \n",
       "\n",
       "    Alaska    Arizona   Arkansas  California   Colorado Connecticut Delaware  \\\n",
       "0  741,894  6,931,071  2,988,248  39,250,017  5,540,545   3,576,452  952,065   \n",
       "1  710,249  6,392,301  2,916,025  37,254,522  5,029,324   3,574,114  897,936   \n",
       "2    4.50%      8.40%      2.50%       5.40%     10.20%       0.10%    6.00%   \n",
       "3  710,231  6,392,017  2,915,918  37,253,956  5,029,196   3,574,097  897,934   \n",
       "4    7.30%      6.30%      6.40%       6.30%      6.10%       5.20%    5.80%   \n",
       "\n",
       "   ... South Dakota Tennessee       Texas       Utah  Vermont   Virginia  \\\n",
       "0  ...       865454   6651194  27,862,596  3,051,217  624,594  8,411,808   \n",
       "1  ...       814195   6346298  25,146,100  2,763,888  625,741  8,001,041   \n",
       "2  ...        0.063     0.048      10.80%     10.40%   -0.20%      5.10%   \n",
       "3  ...       814180   6346105  25,145,561  2,763,885  625,741  8,001,024   \n",
       "4  ...        0.071     0.061       7.20%      8.30%    4.90%      6.10%   \n",
       "\n",
       "  Washington West Virginia  Wisconsin  Wyoming  \n",
       "0  7,288,000     1,831,102  5,778,708  585,501  \n",
       "1  6,724,545     1,853,011  5,687,289  563,767  \n",
       "2      8.40%        -1.20%      1.60%    3.90%  \n",
       "3  6,724,540     1,852,994  5,686,986  563,626  \n",
       "4      6.20%         5.50%      5.80%    6.50%  \n",
       "\n",
       "[5 rows x 52 columns]"
      ]
     },
     "execution_count": 2,
     "metadata": {},
     "output_type": "execute_result"
    }
   ],
   "source": [
    "# Load your data and print out a few lines. Perform operations to inspect data\n",
    "#   types and look for instances of missing or possibly errant data.\n",
    "census_data.head()"
   ]
  },
  {
   "cell_type": "code",
   "execution_count": 3,
   "metadata": {
    "scrolled": false
   },
   "outputs": [
    {
     "data": {
      "text/html": [
       "<div>\n",
       "<style scoped>\n",
       "    .dataframe tbody tr th:only-of-type {\n",
       "        vertical-align: middle;\n",
       "    }\n",
       "\n",
       "    .dataframe tbody tr th {\n",
       "        vertical-align: top;\n",
       "    }\n",
       "\n",
       "    .dataframe thead th {\n",
       "        text-align: right;\n",
       "    }\n",
       "</style>\n",
       "<table border=\"1\" class=\"dataframe\">\n",
       "  <thead>\n",
       "    <tr style=\"text-align: right;\">\n",
       "      <th></th>\n",
       "      <th>month</th>\n",
       "      <th>state</th>\n",
       "      <th>permit</th>\n",
       "      <th>permit_recheck</th>\n",
       "      <th>handgun</th>\n",
       "      <th>long_gun</th>\n",
       "      <th>other</th>\n",
       "      <th>multiple</th>\n",
       "      <th>admin</th>\n",
       "      <th>prepawn_handgun</th>\n",
       "      <th>...</th>\n",
       "      <th>returned_other</th>\n",
       "      <th>rentals_handgun</th>\n",
       "      <th>rentals_long_gun</th>\n",
       "      <th>private_sale_handgun</th>\n",
       "      <th>private_sale_long_gun</th>\n",
       "      <th>private_sale_other</th>\n",
       "      <th>return_to_seller_handgun</th>\n",
       "      <th>return_to_seller_long_gun</th>\n",
       "      <th>return_to_seller_other</th>\n",
       "      <th>totals</th>\n",
       "    </tr>\n",
       "  </thead>\n",
       "  <tbody>\n",
       "    <tr>\n",
       "      <th>0</th>\n",
       "      <td>2017-09</td>\n",
       "      <td>Alabama</td>\n",
       "      <td>16717.0</td>\n",
       "      <td>0.0</td>\n",
       "      <td>5734.0</td>\n",
       "      <td>6320.0</td>\n",
       "      <td>221.0</td>\n",
       "      <td>317</td>\n",
       "      <td>0.0</td>\n",
       "      <td>15.0</td>\n",
       "      <td>...</td>\n",
       "      <td>0.0</td>\n",
       "      <td>0.0</td>\n",
       "      <td>0.0</td>\n",
       "      <td>9.0</td>\n",
       "      <td>16.0</td>\n",
       "      <td>3.0</td>\n",
       "      <td>0.0</td>\n",
       "      <td>0.0</td>\n",
       "      <td>3.0</td>\n",
       "      <td>32019</td>\n",
       "    </tr>\n",
       "    <tr>\n",
       "      <th>1</th>\n",
       "      <td>2017-09</td>\n",
       "      <td>Alaska</td>\n",
       "      <td>209.0</td>\n",
       "      <td>2.0</td>\n",
       "      <td>2320.0</td>\n",
       "      <td>2930.0</td>\n",
       "      <td>219.0</td>\n",
       "      <td>160</td>\n",
       "      <td>0.0</td>\n",
       "      <td>5.0</td>\n",
       "      <td>...</td>\n",
       "      <td>0.0</td>\n",
       "      <td>0.0</td>\n",
       "      <td>0.0</td>\n",
       "      <td>17.0</td>\n",
       "      <td>24.0</td>\n",
       "      <td>1.0</td>\n",
       "      <td>0.0</td>\n",
       "      <td>0.0</td>\n",
       "      <td>0.0</td>\n",
       "      <td>6303</td>\n",
       "    </tr>\n",
       "    <tr>\n",
       "      <th>2</th>\n",
       "      <td>2017-09</td>\n",
       "      <td>Arizona</td>\n",
       "      <td>5069.0</td>\n",
       "      <td>382.0</td>\n",
       "      <td>11063.0</td>\n",
       "      <td>7946.0</td>\n",
       "      <td>920.0</td>\n",
       "      <td>631</td>\n",
       "      <td>0.0</td>\n",
       "      <td>13.0</td>\n",
       "      <td>...</td>\n",
       "      <td>0.0</td>\n",
       "      <td>0.0</td>\n",
       "      <td>0.0</td>\n",
       "      <td>38.0</td>\n",
       "      <td>12.0</td>\n",
       "      <td>2.0</td>\n",
       "      <td>0.0</td>\n",
       "      <td>0.0</td>\n",
       "      <td>0.0</td>\n",
       "      <td>28394</td>\n",
       "    </tr>\n",
       "    <tr>\n",
       "      <th>3</th>\n",
       "      <td>2017-09</td>\n",
       "      <td>Arkansas</td>\n",
       "      <td>2935.0</td>\n",
       "      <td>632.0</td>\n",
       "      <td>4347.0</td>\n",
       "      <td>6063.0</td>\n",
       "      <td>165.0</td>\n",
       "      <td>366</td>\n",
       "      <td>51.0</td>\n",
       "      <td>12.0</td>\n",
       "      <td>...</td>\n",
       "      <td>0.0</td>\n",
       "      <td>0.0</td>\n",
       "      <td>0.0</td>\n",
       "      <td>13.0</td>\n",
       "      <td>23.0</td>\n",
       "      <td>0.0</td>\n",
       "      <td>0.0</td>\n",
       "      <td>2.0</td>\n",
       "      <td>1.0</td>\n",
       "      <td>17747</td>\n",
       "    </tr>\n",
       "    <tr>\n",
       "      <th>4</th>\n",
       "      <td>2017-09</td>\n",
       "      <td>California</td>\n",
       "      <td>57839.0</td>\n",
       "      <td>0.0</td>\n",
       "      <td>37165.0</td>\n",
       "      <td>24581.0</td>\n",
       "      <td>2984.0</td>\n",
       "      <td>0</td>\n",
       "      <td>0.0</td>\n",
       "      <td>0.0</td>\n",
       "      <td>...</td>\n",
       "      <td>0.0</td>\n",
       "      <td>0.0</td>\n",
       "      <td>0.0</td>\n",
       "      <td>0.0</td>\n",
       "      <td>0.0</td>\n",
       "      <td>0.0</td>\n",
       "      <td>0.0</td>\n",
       "      <td>0.0</td>\n",
       "      <td>0.0</td>\n",
       "      <td>123506</td>\n",
       "    </tr>\n",
       "  </tbody>\n",
       "</table>\n",
       "<p>5 rows × 27 columns</p>\n",
       "</div>"
      ],
      "text/plain": [
       "     month       state   permit  permit_recheck  handgun  long_gun   other  \\\n",
       "0  2017-09     Alabama  16717.0             0.0   5734.0    6320.0   221.0   \n",
       "1  2017-09      Alaska    209.0             2.0   2320.0    2930.0   219.0   \n",
       "2  2017-09     Arizona   5069.0           382.0  11063.0    7946.0   920.0   \n",
       "3  2017-09    Arkansas   2935.0           632.0   4347.0    6063.0   165.0   \n",
       "4  2017-09  California  57839.0             0.0  37165.0   24581.0  2984.0   \n",
       "\n",
       "   multiple  admin  prepawn_handgun  ...  returned_other  rentals_handgun  \\\n",
       "0       317    0.0             15.0  ...             0.0              0.0   \n",
       "1       160    0.0              5.0  ...             0.0              0.0   \n",
       "2       631    0.0             13.0  ...             0.0              0.0   \n",
       "3       366   51.0             12.0  ...             0.0              0.0   \n",
       "4         0    0.0              0.0  ...             0.0              0.0   \n",
       "\n",
       "   rentals_long_gun  private_sale_handgun  private_sale_long_gun  \\\n",
       "0               0.0                   9.0                   16.0   \n",
       "1               0.0                  17.0                   24.0   \n",
       "2               0.0                  38.0                   12.0   \n",
       "3               0.0                  13.0                   23.0   \n",
       "4               0.0                   0.0                    0.0   \n",
       "\n",
       "   private_sale_other  return_to_seller_handgun  return_to_seller_long_gun  \\\n",
       "0                 3.0                       0.0                        0.0   \n",
       "1                 1.0                       0.0                        0.0   \n",
       "2                 2.0                       0.0                        0.0   \n",
       "3                 0.0                       0.0                        2.0   \n",
       "4                 0.0                       0.0                        0.0   \n",
       "\n",
       "   return_to_seller_other  totals  \n",
       "0                     3.0   32019  \n",
       "1                     0.0    6303  \n",
       "2                     0.0   28394  \n",
       "3                     1.0   17747  \n",
       "4                     0.0  123506  \n",
       "\n",
       "[5 rows x 27 columns]"
      ]
     },
     "execution_count": 3,
     "metadata": {},
     "output_type": "execute_result"
    }
   ],
   "source": [
    "gun_data.head()"
   ]
  },
  {
   "cell_type": "code",
   "execution_count": 4,
   "metadata": {
    "scrolled": true
   },
   "outputs": [
    {
     "data": {
      "text/plain": [
       "(85, 52)"
      ]
     },
     "execution_count": 4,
     "metadata": {},
     "output_type": "execute_result"
    }
   ],
   "source": [
    "census_data.shape"
   ]
  },
  {
   "cell_type": "code",
   "execution_count": 35,
   "metadata": {
    "scrolled": true
   },
   "outputs": [
    {
     "data": {
      "text/plain": [
       "array(['Alabama', 'Alaska', 'Arizona', 'Arkansas', 'California',\n",
       "       'Colorado', 'Connecticut', 'Delaware', 'District of Columbia',\n",
       "       'Florida', 'Georgia', 'Guam', 'Hawaii', 'Idaho', 'Illinois',\n",
       "       'Indiana', 'Iowa', 'Kansas', 'Kentucky', 'Louisiana', 'Maine',\n",
       "       'Mariana Islands', 'Maryland', 'Massachusetts', 'Michigan',\n",
       "       'Minnesota', 'Mississippi', 'Missouri', 'Montana', 'Nebraska',\n",
       "       'Nevada', 'New Hampshire', 'New Jersey', 'New Mexico', 'New York',\n",
       "       'North Carolina', 'North Dakota', 'Ohio', 'Oklahoma', 'Oregon',\n",
       "       'Pennsylvania', 'Puerto Rico', 'Rhode Island', 'South Carolina',\n",
       "       'South Dakota', 'Tennessee', 'Texas', 'Utah', 'Vermont',\n",
       "       'Virgin Islands', 'Virginia', 'Washington', 'West Virginia',\n",
       "       'Wisconsin', 'Wyoming'], dtype=object)"
      ]
     },
     "execution_count": 35,
     "metadata": {},
     "output_type": "execute_result"
    }
   ],
   "source": [
    "gun_data['state'].unique()"
   ]
  },
  {
   "cell_type": "markdown",
   "metadata": {},
   "source": [
    "> look like there are some states are in gun data but not in the census data so we will drop them later "
   ]
  },
  {
   "cell_type": "code",
   "execution_count": 6,
   "metadata": {
    "scrolled": true
   },
   "outputs": [
    {
     "data": {
      "text/plain": [
       "((85, 52), (12485, 27))"
      ]
     },
     "execution_count": 6,
     "metadata": {},
     "output_type": "execute_result"
    }
   ],
   "source": [
    "census_data.shape , gun_data.shape"
   ]
  },
  {
   "cell_type": "code",
   "execution_count": 55,
   "metadata": {},
   "outputs": [
    {
     "data": {
      "text/html": [
       "<div>\n",
       "<style scoped>\n",
       "    .dataframe tbody tr th:only-of-type {\n",
       "        vertical-align: middle;\n",
       "    }\n",
       "\n",
       "    .dataframe tbody tr th {\n",
       "        vertical-align: top;\n",
       "    }\n",
       "\n",
       "    .dataframe thead th {\n",
       "        text-align: right;\n",
       "    }\n",
       "</style>\n",
       "<table border=\"1\" class=\"dataframe\">\n",
       "  <thead>\n",
       "    <tr style=\"text-align: right;\">\n",
       "      <th></th>\n",
       "      <th>permit</th>\n",
       "      <th>permit_recheck</th>\n",
       "      <th>handgun</th>\n",
       "      <th>long_gun</th>\n",
       "      <th>other</th>\n",
       "      <th>multiple</th>\n",
       "      <th>admin</th>\n",
       "      <th>prepawn_handgun</th>\n",
       "      <th>prepawn_long_gun</th>\n",
       "      <th>prepawn_other</th>\n",
       "      <th>...</th>\n",
       "      <th>returned_other</th>\n",
       "      <th>rentals_handgun</th>\n",
       "      <th>rentals_long_gun</th>\n",
       "      <th>private_sale_handgun</th>\n",
       "      <th>private_sale_long_gun</th>\n",
       "      <th>private_sale_other</th>\n",
       "      <th>return_to_seller_handgun</th>\n",
       "      <th>return_to_seller_long_gun</th>\n",
       "      <th>return_to_seller_other</th>\n",
       "      <th>totals</th>\n",
       "    </tr>\n",
       "  </thead>\n",
       "  <tbody>\n",
       "    <tr>\n",
       "      <th>count</th>\n",
       "      <td>11348.000000</td>\n",
       "      <td>1000.000000</td>\n",
       "      <td>11350.000000</td>\n",
       "      <td>11350.000000</td>\n",
       "      <td>5000.000000</td>\n",
       "      <td>11350.000000</td>\n",
       "      <td>11348.000000</td>\n",
       "      <td>9597.000000</td>\n",
       "      <td>9595.000000</td>\n",
       "      <td>4650.000000</td>\n",
       "      <td>...</td>\n",
       "      <td>1650.000000</td>\n",
       "      <td>900.000000</td>\n",
       "      <td>750.000000</td>\n",
       "      <td>2500.000000</td>\n",
       "      <td>2500.000000</td>\n",
       "      <td>2500.000000</td>\n",
       "      <td>2250.000000</td>\n",
       "      <td>2500.000000</td>\n",
       "      <td>2050.000000</td>\n",
       "      <td>11350.000000</td>\n",
       "    </tr>\n",
       "    <tr>\n",
       "      <th>mean</th>\n",
       "      <td>7041.630331</td>\n",
       "      <td>1282.552000</td>\n",
       "      <td>6509.303877</td>\n",
       "      <td>8575.439648</td>\n",
       "      <td>396.052400</td>\n",
       "      <td>295.059471</td>\n",
       "      <td>64.675097</td>\n",
       "      <td>5.301969</td>\n",
       "      <td>8.604482</td>\n",
       "      <td>0.181720</td>\n",
       "      <td>...</td>\n",
       "      <td>1.130303</td>\n",
       "      <td>0.084444</td>\n",
       "      <td>0.096000</td>\n",
       "      <td>16.427200</td>\n",
       "      <td>12.763200</td>\n",
       "      <td>1.131600</td>\n",
       "      <td>0.439556</td>\n",
       "      <td>0.484400</td>\n",
       "      <td>0.115610</td>\n",
       "      <td>23734.978502</td>\n",
       "    </tr>\n",
       "    <tr>\n",
       "      <th>std</th>\n",
       "      <td>24801.129677</td>\n",
       "      <td>9667.124288</td>\n",
       "      <td>8829.284061</td>\n",
       "      <td>9416.217660</td>\n",
       "      <td>1410.425364</td>\n",
       "      <td>816.710594</td>\n",
       "      <td>633.514277</td>\n",
       "      <td>11.321981</td>\n",
       "      <td>17.067140</td>\n",
       "      <td>1.107227</td>\n",
       "      <td>...</td>\n",
       "      <td>4.587865</td>\n",
       "      <td>0.665018</td>\n",
       "      <td>0.703878</td>\n",
       "      <td>74.529346</td>\n",
       "      <td>56.771827</td>\n",
       "      <td>4.673652</td>\n",
       "      <td>1.511227</td>\n",
       "      <td>1.596113</td>\n",
       "      <td>0.446012</td>\n",
       "      <td>33437.577310</td>\n",
       "    </tr>\n",
       "    <tr>\n",
       "      <th>min</th>\n",
       "      <td>0.000000</td>\n",
       "      <td>0.000000</td>\n",
       "      <td>0.000000</td>\n",
       "      <td>0.000000</td>\n",
       "      <td>0.000000</td>\n",
       "      <td>0.000000</td>\n",
       "      <td>0.000000</td>\n",
       "      <td>0.000000</td>\n",
       "      <td>0.000000</td>\n",
       "      <td>0.000000</td>\n",
       "      <td>...</td>\n",
       "      <td>0.000000</td>\n",
       "      <td>0.000000</td>\n",
       "      <td>0.000000</td>\n",
       "      <td>0.000000</td>\n",
       "      <td>0.000000</td>\n",
       "      <td>0.000000</td>\n",
       "      <td>0.000000</td>\n",
       "      <td>0.000000</td>\n",
       "      <td>0.000000</td>\n",
       "      <td>6.000000</td>\n",
       "    </tr>\n",
       "    <tr>\n",
       "      <th>25%</th>\n",
       "      <td>0.000000</td>\n",
       "      <td>0.000000</td>\n",
       "      <td>1327.250000</td>\n",
       "      <td>2778.000000</td>\n",
       "      <td>37.000000</td>\n",
       "      <td>41.000000</td>\n",
       "      <td>0.000000</td>\n",
       "      <td>0.000000</td>\n",
       "      <td>0.000000</td>\n",
       "      <td>0.000000</td>\n",
       "      <td>...</td>\n",
       "      <td>0.000000</td>\n",
       "      <td>0.000000</td>\n",
       "      <td>0.000000</td>\n",
       "      <td>0.000000</td>\n",
       "      <td>0.000000</td>\n",
       "      <td>0.000000</td>\n",
       "      <td>0.000000</td>\n",
       "      <td>0.000000</td>\n",
       "      <td>0.000000</td>\n",
       "      <td>6472.000000</td>\n",
       "    </tr>\n",
       "    <tr>\n",
       "      <th>50%</th>\n",
       "      <td>814.000000</td>\n",
       "      <td>0.000000</td>\n",
       "      <td>3622.500000</td>\n",
       "      <td>5893.000000</td>\n",
       "      <td>148.000000</td>\n",
       "      <td>151.000000</td>\n",
       "      <td>0.000000</td>\n",
       "      <td>0.000000</td>\n",
       "      <td>2.000000</td>\n",
       "      <td>0.000000</td>\n",
       "      <td>...</td>\n",
       "      <td>0.000000</td>\n",
       "      <td>0.000000</td>\n",
       "      <td>0.000000</td>\n",
       "      <td>0.000000</td>\n",
       "      <td>0.000000</td>\n",
       "      <td>0.000000</td>\n",
       "      <td>0.000000</td>\n",
       "      <td>0.000000</td>\n",
       "      <td>0.000000</td>\n",
       "      <td>14050.000000</td>\n",
       "    </tr>\n",
       "    <tr>\n",
       "      <th>75%</th>\n",
       "      <td>5137.750000</td>\n",
       "      <td>1.000000</td>\n",
       "      <td>7987.750000</td>\n",
       "      <td>11021.500000</td>\n",
       "      <td>393.000000</td>\n",
       "      <td>328.750000</td>\n",
       "      <td>0.000000</td>\n",
       "      <td>5.000000</td>\n",
       "      <td>9.000000</td>\n",
       "      <td>0.000000</td>\n",
       "      <td>...</td>\n",
       "      <td>0.000000</td>\n",
       "      <td>0.000000</td>\n",
       "      <td>0.000000</td>\n",
       "      <td>4.000000</td>\n",
       "      <td>5.000000</td>\n",
       "      <td>0.000000</td>\n",
       "      <td>0.000000</td>\n",
       "      <td>0.000000</td>\n",
       "      <td>0.000000</td>\n",
       "      <td>27537.000000</td>\n",
       "    </tr>\n",
       "    <tr>\n",
       "      <th>max</th>\n",
       "      <td>522188.000000</td>\n",
       "      <td>116681.000000</td>\n",
       "      <td>107224.000000</td>\n",
       "      <td>108058.000000</td>\n",
       "      <td>77929.000000</td>\n",
       "      <td>38907.000000</td>\n",
       "      <td>28083.000000</td>\n",
       "      <td>164.000000</td>\n",
       "      <td>269.000000</td>\n",
       "      <td>49.000000</td>\n",
       "      <td>...</td>\n",
       "      <td>64.000000</td>\n",
       "      <td>12.000000</td>\n",
       "      <td>12.000000</td>\n",
       "      <td>1017.000000</td>\n",
       "      <td>777.000000</td>\n",
       "      <td>71.000000</td>\n",
       "      <td>28.000000</td>\n",
       "      <td>17.000000</td>\n",
       "      <td>4.000000</td>\n",
       "      <td>541978.000000</td>\n",
       "    </tr>\n",
       "  </tbody>\n",
       "</table>\n",
       "<p>8 rows × 25 columns</p>\n",
       "</div>"
      ],
      "text/plain": [
       "              permit  permit_recheck        handgun       long_gun  \\\n",
       "count   11348.000000     1000.000000   11350.000000   11350.000000   \n",
       "mean     7041.630331     1282.552000    6509.303877    8575.439648   \n",
       "std     24801.129677     9667.124288    8829.284061    9416.217660   \n",
       "min         0.000000        0.000000       0.000000       0.000000   \n",
       "25%         0.000000        0.000000    1327.250000    2778.000000   \n",
       "50%       814.000000        0.000000    3622.500000    5893.000000   \n",
       "75%      5137.750000        1.000000    7987.750000   11021.500000   \n",
       "max    522188.000000   116681.000000  107224.000000  108058.000000   \n",
       "\n",
       "              other      multiple         admin  prepawn_handgun  \\\n",
       "count   5000.000000  11350.000000  11348.000000      9597.000000   \n",
       "mean     396.052400    295.059471     64.675097         5.301969   \n",
       "std     1410.425364    816.710594    633.514277        11.321981   \n",
       "min        0.000000      0.000000      0.000000         0.000000   \n",
       "25%       37.000000     41.000000      0.000000         0.000000   \n",
       "50%      148.000000    151.000000      0.000000         0.000000   \n",
       "75%      393.000000    328.750000      0.000000         5.000000   \n",
       "max    77929.000000  38907.000000  28083.000000       164.000000   \n",
       "\n",
       "       prepawn_long_gun  prepawn_other  ...  returned_other  rentals_handgun  \\\n",
       "count       9595.000000    4650.000000  ...     1650.000000       900.000000   \n",
       "mean           8.604482       0.181720  ...        1.130303         0.084444   \n",
       "std           17.067140       1.107227  ...        4.587865         0.665018   \n",
       "min            0.000000       0.000000  ...        0.000000         0.000000   \n",
       "25%            0.000000       0.000000  ...        0.000000         0.000000   \n",
       "50%            2.000000       0.000000  ...        0.000000         0.000000   \n",
       "75%            9.000000       0.000000  ...        0.000000         0.000000   \n",
       "max          269.000000      49.000000  ...       64.000000        12.000000   \n",
       "\n",
       "       rentals_long_gun  private_sale_handgun  private_sale_long_gun  \\\n",
       "count        750.000000           2500.000000            2500.000000   \n",
       "mean           0.096000             16.427200              12.763200   \n",
       "std            0.703878             74.529346              56.771827   \n",
       "min            0.000000              0.000000               0.000000   \n",
       "25%            0.000000              0.000000               0.000000   \n",
       "50%            0.000000              0.000000               0.000000   \n",
       "75%            0.000000              4.000000               5.000000   \n",
       "max           12.000000           1017.000000             777.000000   \n",
       "\n",
       "       private_sale_other  return_to_seller_handgun  \\\n",
       "count         2500.000000               2250.000000   \n",
       "mean             1.131600                  0.439556   \n",
       "std              4.673652                  1.511227   \n",
       "min              0.000000                  0.000000   \n",
       "25%              0.000000                  0.000000   \n",
       "50%              0.000000                  0.000000   \n",
       "75%              0.000000                  0.000000   \n",
       "max             71.000000                 28.000000   \n",
       "\n",
       "       return_to_seller_long_gun  return_to_seller_other         totals  \n",
       "count                2500.000000             2050.000000   11350.000000  \n",
       "mean                    0.484400                0.115610   23734.978502  \n",
       "std                     1.596113                0.446012   33437.577310  \n",
       "min                     0.000000                0.000000       6.000000  \n",
       "25%                     0.000000                0.000000    6472.000000  \n",
       "50%                     0.000000                0.000000   14050.000000  \n",
       "75%                     0.000000                0.000000   27537.000000  \n",
       "max                    17.000000                4.000000  541978.000000  \n",
       "\n",
       "[8 rows x 25 columns]"
      ]
     },
     "execution_count": 55,
     "metadata": {},
     "output_type": "execute_result"
    }
   ],
   "source": [
    "gun_data.describe()"
   ]
  },
  {
   "cell_type": "code",
   "execution_count": 56,
   "metadata": {},
   "outputs": [
    {
     "data": {
      "text/html": [
       "<div>\n",
       "<style scoped>\n",
       "    .dataframe tbody tr th:only-of-type {\n",
       "        vertical-align: middle;\n",
       "    }\n",
       "\n",
       "    .dataframe tbody tr th {\n",
       "        vertical-align: top;\n",
       "    }\n",
       "\n",
       "    .dataframe thead th {\n",
       "        text-align: right;\n",
       "    }\n",
       "</style>\n",
       "<table border=\"1\" class=\"dataframe\">\n",
       "  <thead>\n",
       "    <tr style=\"text-align: right;\">\n",
       "      <th></th>\n",
       "      <th>Fact</th>\n",
       "      <th>Alabama</th>\n",
       "      <th>Alaska</th>\n",
       "      <th>Arizona</th>\n",
       "      <th>Arkansas</th>\n",
       "      <th>California</th>\n",
       "      <th>Colorado</th>\n",
       "      <th>Connecticut</th>\n",
       "      <th>Delaware</th>\n",
       "      <th>Florida</th>\n",
       "      <th>...</th>\n",
       "      <th>South Dakota</th>\n",
       "      <th>Tennessee</th>\n",
       "      <th>Texas</th>\n",
       "      <th>Utah</th>\n",
       "      <th>Vermont</th>\n",
       "      <th>Virginia</th>\n",
       "      <th>Washington</th>\n",
       "      <th>West Virginia</th>\n",
       "      <th>Wisconsin</th>\n",
       "      <th>Wyoming</th>\n",
       "    </tr>\n",
       "  </thead>\n",
       "  <tbody>\n",
       "    <tr>\n",
       "      <th>count</th>\n",
       "      <td>64</td>\n",
       "      <td>64</td>\n",
       "      <td>64</td>\n",
       "      <td>64</td>\n",
       "      <td>64</td>\n",
       "      <td>64</td>\n",
       "      <td>64</td>\n",
       "      <td>64</td>\n",
       "      <td>64</td>\n",
       "      <td>64</td>\n",
       "      <td>...</td>\n",
       "      <td>64</td>\n",
       "      <td>64</td>\n",
       "      <td>64</td>\n",
       "      <td>64</td>\n",
       "      <td>64</td>\n",
       "      <td>64</td>\n",
       "      <td>64</td>\n",
       "      <td>64</td>\n",
       "      <td>64</td>\n",
       "      <td>64</td>\n",
       "    </tr>\n",
       "    <tr>\n",
       "      <th>unique</th>\n",
       "      <td>64</td>\n",
       "      <td>64</td>\n",
       "      <td>63</td>\n",
       "      <td>63</td>\n",
       "      <td>63</td>\n",
       "      <td>62</td>\n",
       "      <td>63</td>\n",
       "      <td>62</td>\n",
       "      <td>63</td>\n",
       "      <td>63</td>\n",
       "      <td>...</td>\n",
       "      <td>64</td>\n",
       "      <td>63</td>\n",
       "      <td>63</td>\n",
       "      <td>63</td>\n",
       "      <td>62</td>\n",
       "      <td>64</td>\n",
       "      <td>64</td>\n",
       "      <td>63</td>\n",
       "      <td>64</td>\n",
       "      <td>63</td>\n",
       "    </tr>\n",
       "    <tr>\n",
       "      <th>top</th>\n",
       "      <td>Population estimates, July 1, 2016,  (V2016)</td>\n",
       "      <td>4,863,300</td>\n",
       "      <td>7.30%</td>\n",
       "      <td>50.30%</td>\n",
       "      <td>50.90%</td>\n",
       "      <td>6.80%</td>\n",
       "      <td>3.30%</td>\n",
       "      <td>0.10%</td>\n",
       "      <td>51.60%</td>\n",
       "      <td>51.10%</td>\n",
       "      <td>...</td>\n",
       "      <td>865454</td>\n",
       "      <td>0.048</td>\n",
       "      <td>50.40%</td>\n",
       "      <td>2.50%</td>\n",
       "      <td>1.90%</td>\n",
       "      <td>8,411,808</td>\n",
       "      <td>7,288,000</td>\n",
       "      <td>1.50%</td>\n",
       "      <td>5,778,708</td>\n",
       "      <td>7.10%</td>\n",
       "    </tr>\n",
       "    <tr>\n",
       "      <th>freq</th>\n",
       "      <td>1</td>\n",
       "      <td>1</td>\n",
       "      <td>2</td>\n",
       "      <td>2</td>\n",
       "      <td>2</td>\n",
       "      <td>2</td>\n",
       "      <td>2</td>\n",
       "      <td>2</td>\n",
       "      <td>2</td>\n",
       "      <td>2</td>\n",
       "      <td>...</td>\n",
       "      <td>1</td>\n",
       "      <td>2</td>\n",
       "      <td>2</td>\n",
       "      <td>2</td>\n",
       "      <td>2</td>\n",
       "      <td>1</td>\n",
       "      <td>1</td>\n",
       "      <td>2</td>\n",
       "      <td>1</td>\n",
       "      <td>2</td>\n",
       "    </tr>\n",
       "  </tbody>\n",
       "</table>\n",
       "<p>4 rows × 51 columns</p>\n",
       "</div>"
      ],
      "text/plain": [
       "                                                Fact    Alabama Alaska  \\\n",
       "count                                             64         64     64   \n",
       "unique                                            64         64     63   \n",
       "top     Population estimates, July 1, 2016,  (V2016)  4,863,300  7.30%   \n",
       "freq                                               1          1      2   \n",
       "\n",
       "       Arizona Arkansas California Colorado Connecticut Delaware Florida  ...  \\\n",
       "count       64       64         64       64          64       64      64  ...   \n",
       "unique      63       63         62       63          62       63      63  ...   \n",
       "top     50.30%   50.90%      6.80%    3.30%       0.10%   51.60%  51.10%  ...   \n",
       "freq         2        2          2        2           2        2       2  ...   \n",
       "\n",
       "       South Dakota Tennessee   Texas   Utah Vermont   Virginia Washington  \\\n",
       "count            64        64      64     64      64         64         64   \n",
       "unique           64        63      63     63      62         64         64   \n",
       "top          865454     0.048  50.40%  2.50%   1.90%  8,411,808  7,288,000   \n",
       "freq              1         2       2      2       2          1          1   \n",
       "\n",
       "       West Virginia  Wisconsin Wyoming  \n",
       "count             64         64      64  \n",
       "unique            63         64      63  \n",
       "top            1.50%  5,778,708   7.10%  \n",
       "freq               2          1       2  \n",
       "\n",
       "[4 rows x 51 columns]"
      ]
     },
     "execution_count": 56,
     "metadata": {},
     "output_type": "execute_result"
    }
   ],
   "source": [
    "census_data.describe()"
   ]
  },
  {
   "cell_type": "markdown",
   "metadata": {},
   "source": [
    "> **Tip**: You should _not_ perform too many operations in each cell. Create cells freely to explore your data. One option that you can take with this project is to do a lot of explorations in an initial notebook. These don't have to be organized, but make sure you use enough comments to understand the purpose of each code cell. Then, after you're done with your analysis, create a duplicate notebook where you will trim the excess and organize your steps so that you have a flowing, cohesive report.\n",
    "\n",
    "> **Tip**: Make sure that you keep your reader informed on the steps that you are taking in your investigation. Follow every code cell, or every set of related code cells, with a markdown cell to describe to the reader what was found in the preceding cell(s). Try to make it so that the reader can then understand what they will be seeing in the following cell(s).\n",
    "\n",
    "### Data Cleaning "
   ]
  },
  {
   "cell_type": "code",
   "execution_count": null,
   "metadata": {},
   "outputs": [],
   "source": [
    "# After discussing the structure of the data and any problems that need to be\n",
    "#   cleaned, perform those cleaning steps in the second part of this section.\n"
   ]
  },
  {
   "cell_type": "code",
   "execution_count": 81,
   "metadata": {},
   "outputs": [
    {
     "data": {
      "text/plain": [
       "RangeIndex(start=0, stop=85, step=1)"
      ]
     },
     "execution_count": 81,
     "metadata": {},
     "output_type": "execute_result"
    }
   ],
   "source": [
    "census_data.index"
   ]
  },
  {
   "cell_type": "markdown",
   "metadata": {},
   "source": [
    "> Drop the rows that have notes and not tips and not important information "
   ]
  },
  {
   "cell_type": "code",
   "execution_count": 103,
   "metadata": {
    "scrolled": true
   },
   "outputs": [],
   "source": [
    "to_delete = [64 , 65,66, 67, 68,\n",
    "            69, 70, 71, 72, 73, 74, 75, 76, 77, 78, 79, 80, 81, 82, 83 , 84]"
   ]
  },
  {
   "cell_type": "code",
   "execution_count": 104,
   "metadata": {},
   "outputs": [],
   "source": [
    "census_data.drop(to_delete , axis = 0,  inplace = True)"
   ]
  },
  {
   "cell_type": "code",
   "execution_count": 105,
   "metadata": {},
   "outputs": [
    {
     "data": {
      "text/html": [
       "<div>\n",
       "<style scoped>\n",
       "    .dataframe tbody tr th:only-of-type {\n",
       "        vertical-align: middle;\n",
       "    }\n",
       "\n",
       "    .dataframe tbody tr th {\n",
       "        vertical-align: top;\n",
       "    }\n",
       "\n",
       "    .dataframe thead th {\n",
       "        text-align: right;\n",
       "    }\n",
       "</style>\n",
       "<table border=\"1\" class=\"dataframe\">\n",
       "  <thead>\n",
       "    <tr style=\"text-align: right;\">\n",
       "      <th></th>\n",
       "      <th>Fact</th>\n",
       "      <th>Fact Note</th>\n",
       "      <th>Alabama</th>\n",
       "      <th>Alaska</th>\n",
       "      <th>Arizona</th>\n",
       "      <th>Arkansas</th>\n",
       "      <th>California</th>\n",
       "      <th>Colorado</th>\n",
       "      <th>Connecticut</th>\n",
       "      <th>Delaware</th>\n",
       "      <th>...</th>\n",
       "      <th>South Dakota</th>\n",
       "      <th>Tennessee</th>\n",
       "      <th>Texas</th>\n",
       "      <th>Utah</th>\n",
       "      <th>Vermont</th>\n",
       "      <th>Virginia</th>\n",
       "      <th>Washington</th>\n",
       "      <th>West Virginia</th>\n",
       "      <th>Wisconsin</th>\n",
       "      <th>Wyoming</th>\n",
       "    </tr>\n",
       "  </thead>\n",
       "  <tbody>\n",
       "    <tr>\n",
       "      <th>59</th>\n",
       "      <td>Nonminority-owned firms, 2012</td>\n",
       "      <td>NaN</td>\n",
       "      <td>272,651</td>\n",
       "      <td>51,147</td>\n",
       "      <td>344,981</td>\n",
       "      <td>189,029</td>\n",
       "      <td>1,819,107</td>\n",
       "      <td>442,365</td>\n",
       "      <td>259,614</td>\n",
       "      <td>54,782</td>\n",
       "      <td>...</td>\n",
       "      <td>74228</td>\n",
       "      <td>434025</td>\n",
       "      <td>1,224,845</td>\n",
       "      <td>218,826</td>\n",
       "      <td>70,491</td>\n",
       "      <td>450,109</td>\n",
       "      <td>426,697</td>\n",
       "      <td>104,785</td>\n",
       "      <td>379,934</td>\n",
       "      <td>55,397</td>\n",
       "    </tr>\n",
       "    <tr>\n",
       "      <th>60</th>\n",
       "      <td>Veteran-owned firms, 2012</td>\n",
       "      <td>NaN</td>\n",
       "      <td>41,943</td>\n",
       "      <td>7,953</td>\n",
       "      <td>46,780</td>\n",
       "      <td>25,915</td>\n",
       "      <td>252,377</td>\n",
       "      <td>51,722</td>\n",
       "      <td>31,056</td>\n",
       "      <td>7,206</td>\n",
       "      <td>...</td>\n",
       "      <td>8604</td>\n",
       "      <td>59379</td>\n",
       "      <td>213,590</td>\n",
       "      <td>18,754</td>\n",
       "      <td>8,237</td>\n",
       "      <td>76,434</td>\n",
       "      <td>49,331</td>\n",
       "      <td>12,912</td>\n",
       "      <td>39,830</td>\n",
       "      <td>6,470</td>\n",
       "    </tr>\n",
       "    <tr>\n",
       "      <th>61</th>\n",
       "      <td>Nonveteran-owned firms, 2012</td>\n",
       "      <td>NaN</td>\n",
       "      <td>316,984</td>\n",
       "      <td>56,091</td>\n",
       "      <td>427,582</td>\n",
       "      <td>192,988</td>\n",
       "      <td>3,176,341</td>\n",
       "      <td>469,524</td>\n",
       "      <td>281,182</td>\n",
       "      <td>60,318</td>\n",
       "      <td>...</td>\n",
       "      <td>66219</td>\n",
       "      <td>469392</td>\n",
       "      <td>2,057,218</td>\n",
       "      <td>219,807</td>\n",
       "      <td>63,317</td>\n",
       "      <td>548,439</td>\n",
       "      <td>461,401</td>\n",
       "      <td>94,960</td>\n",
       "      <td>370,755</td>\n",
       "      <td>51,353</td>\n",
       "    </tr>\n",
       "    <tr>\n",
       "      <th>62</th>\n",
       "      <td>Population per square mile, 2010</td>\n",
       "      <td>NaN</td>\n",
       "      <td>94.4</td>\n",
       "      <td>1.2</td>\n",
       "      <td>56.3</td>\n",
       "      <td>56</td>\n",
       "      <td>239.1</td>\n",
       "      <td>48.5</td>\n",
       "      <td>738.1</td>\n",
       "      <td>460.8</td>\n",
       "      <td>...</td>\n",
       "      <td>10.7</td>\n",
       "      <td>153.9</td>\n",
       "      <td>96.3</td>\n",
       "      <td>33.6</td>\n",
       "      <td>67.9</td>\n",
       "      <td>202.6</td>\n",
       "      <td>101.2</td>\n",
       "      <td>77.1</td>\n",
       "      <td>105</td>\n",
       "      <td>5.8</td>\n",
       "    </tr>\n",
       "    <tr>\n",
       "      <th>63</th>\n",
       "      <td>Land area in square miles, 2010</td>\n",
       "      <td>NaN</td>\n",
       "      <td>50,645.33</td>\n",
       "      <td>570,640.95</td>\n",
       "      <td>113,594.08</td>\n",
       "      <td>52,035.48</td>\n",
       "      <td>155,779.22</td>\n",
       "      <td>103,641.89</td>\n",
       "      <td>4,842.36</td>\n",
       "      <td>1,948.54</td>\n",
       "      <td>...</td>\n",
       "      <td>75811</td>\n",
       "      <td>41234.9</td>\n",
       "      <td>261,231.71</td>\n",
       "      <td>82,169.62</td>\n",
       "      <td>9,216.66</td>\n",
       "      <td>39,490.09</td>\n",
       "      <td>66,455.52</td>\n",
       "      <td>24,038.21</td>\n",
       "      <td>54,157.80</td>\n",
       "      <td>97,093.14</td>\n",
       "    </tr>\n",
       "  </tbody>\n",
       "</table>\n",
       "<p>5 rows × 52 columns</p>\n",
       "</div>"
      ],
      "text/plain": [
       "                                Fact Fact Note    Alabama      Alaska  \\\n",
       "59     Nonminority-owned firms, 2012       NaN    272,651      51,147   \n",
       "60         Veteran-owned firms, 2012       NaN     41,943       7,953   \n",
       "61      Nonveteran-owned firms, 2012       NaN    316,984      56,091   \n",
       "62  Population per square mile, 2010       NaN       94.4         1.2   \n",
       "63   Land area in square miles, 2010       NaN  50,645.33  570,640.95   \n",
       "\n",
       "       Arizona   Arkansas  California    Colorado Connecticut  Delaware  ...  \\\n",
       "59     344,981    189,029   1,819,107     442,365     259,614    54,782  ...   \n",
       "60      46,780     25,915     252,377      51,722      31,056     7,206  ...   \n",
       "61     427,582    192,988   3,176,341     469,524     281,182    60,318  ...   \n",
       "62        56.3         56       239.1        48.5       738.1     460.8  ...   \n",
       "63  113,594.08  52,035.48  155,779.22  103,641.89    4,842.36  1,948.54  ...   \n",
       "\n",
       "   South Dakota Tennessee       Texas       Utah   Vermont   Virginia  \\\n",
       "59        74228    434025   1,224,845    218,826    70,491    450,109   \n",
       "60         8604     59379     213,590     18,754     8,237     76,434   \n",
       "61        66219    469392   2,057,218    219,807    63,317    548,439   \n",
       "62         10.7     153.9        96.3       33.6      67.9      202.6   \n",
       "63        75811   41234.9  261,231.71  82,169.62  9,216.66  39,490.09   \n",
       "\n",
       "   Washington West Virginia  Wisconsin    Wyoming  \n",
       "59    426,697       104,785    379,934     55,397  \n",
       "60     49,331        12,912     39,830      6,470  \n",
       "61    461,401        94,960    370,755     51,353  \n",
       "62      101.2          77.1        105        5.8  \n",
       "63  66,455.52     24,038.21  54,157.80  97,093.14  \n",
       "\n",
       "[5 rows x 52 columns]"
      ]
     },
     "execution_count": 105,
     "metadata": {},
     "output_type": "execute_result"
    }
   ],
   "source": [
    "census_data.tail()"
   ]
  },
  {
   "cell_type": "markdown",
   "metadata": {},
   "source": [
    "> it looke like dact note have no value at all "
   ]
  },
  {
   "cell_type": "code",
   "execution_count": 122,
   "metadata": {},
   "outputs": [],
   "source": [
    "census_data.drop('Fact Note' , axis = 1 , inplace = True)"
   ]
  },
  {
   "cell_type": "code",
   "execution_count": 117,
   "metadata": {
    "scrolled": true
   },
   "outputs": [
    {
     "data": {
      "text/plain": [
       "Index(['Fact', 'Alabama', 'Alaska', 'Arizona', 'Arkansas', 'California',\n",
       "       'Colorado', 'Connecticut', 'Delaware', 'Florida', 'Georgia', 'Hawaii',\n",
       "       'Idaho', 'Illinois', 'Indiana', 'Iowa', 'Kansas', 'Kentucky',\n",
       "       'Louisiana', 'Maine', 'Maryland', 'Massachusetts', 'Michigan',\n",
       "       'Minnesota', 'Mississippi', 'Missouri', 'Montana', 'Nebraska', 'Nevada',\n",
       "       'New Hampshire', 'New Jersey', 'New Mexico', 'New York',\n",
       "       'North Carolina', 'North Dakota', 'Ohio', 'Oklahoma', 'Oregon',\n",
       "       'Pennsylvania', 'Rhode Island', 'South Carolina', 'South Dakota',\n",
       "       'Tennessee', 'Texas', 'Utah', 'Vermont', 'Virginia', 'Washington',\n",
       "       'West Virginia', 'Wisconsin', 'Wyoming'],\n",
       "      dtype='object')"
      ]
     },
     "execution_count": 117,
     "metadata": {},
     "output_type": "execute_result"
    }
   ],
   "source": [
    "census_data.columns"
   ]
  },
  {
   "cell_type": "code",
   "execution_count": 19,
   "metadata": {},
   "outputs": [],
   "source": [
    "missed_state = []"
   ]
  },
  {
   "cell_type": "code",
   "execution_count": 211,
   "metadata": {},
   "outputs": [
    {
     "data": {
      "text/plain": [
       "['District of Columbia',\n",
       " 'Guam',\n",
       " 'Mariana Islands',\n",
       " 'Puerto Rico',\n",
       " 'Virgin Islands']"
      ]
     },
     "execution_count": 211,
     "metadata": {},
     "output_type": "execute_result"
    }
   ],
   "source": [
    "\n",
    "#for state in columns:\n",
    "#    gun_data.drop(c , axis = 1 , inplace = True )\n",
    "\n",
    "gun_data['state'].unique()\n",
    "for s in gun_data['state'].unique():\n",
    "    if s not in census_data.columns:\n",
    "        missed_state.append(s)\n",
    "missed_state"
   ]
  },
  {
   "cell_type": "markdown",
   "metadata": {},
   "source": [
    "> drop the missed sates from gun data"
   ]
  },
  {
   "cell_type": "code",
   "execution_count": 212,
   "metadata": {},
   "outputs": [
    {
     "data": {
      "text/plain": [
       "50"
      ]
     },
     "execution_count": 212,
     "metadata": {},
     "output_type": "execute_result"
    }
   ],
   "source": [
    "\n",
    "for s in missed_state:\n",
    "    gun_data = gun_data[gun_data.state != s]\n",
    "gun_data['state'].nunique()"
   ]
  },
  {
   "cell_type": "markdown",
   "metadata": {},
   "source": [
    "census_data has more by one because it has face column "
   ]
  },
  {
   "cell_type": "code",
   "execution_count": 45,
   "metadata": {
    "scrolled": true
   },
   "outputs": [
    {
     "data": {
      "text/plain": [
       "(85, 51)"
      ]
     },
     "execution_count": 45,
     "metadata": {},
     "output_type": "execute_result"
    }
   ],
   "source": [
    "census_data.shape"
   ]
  },
  {
   "cell_type": "code",
   "execution_count": 50,
   "metadata": {
    "scrolled": true
   },
   "outputs": [
    {
     "data": {
      "text/plain": [
       "Fact              0\n",
       "Alabama           0\n",
       "Alaska            0\n",
       "Arizona           0\n",
       "Arkansas          0\n",
       "California        0\n",
       "Colorado          0\n",
       "Connecticut       0\n",
       "Delaware          0\n",
       "Florida           0\n",
       "Georgia           0\n",
       "Hawaii            0\n",
       "Idaho             0\n",
       "Illinois          0\n",
       "Indiana           0\n",
       "Iowa              0\n",
       "Kansas            0\n",
       "Kentucky          0\n",
       "Louisiana         0\n",
       "Maine             0\n",
       "Maryland          0\n",
       "Massachusetts     0\n",
       "Michigan          0\n",
       "Minnesota         0\n",
       "Mississippi       0\n",
       "Missouri          0\n",
       "Montana           0\n",
       "Nebraska          0\n",
       "Nevada            0\n",
       "New Hampshire     0\n",
       "New Jersey        0\n",
       "New Mexico        0\n",
       "New York          0\n",
       "North Carolina    0\n",
       "North Dakota      0\n",
       "Ohio              0\n",
       "Oklahoma          0\n",
       "Oregon            0\n",
       "Pennsylvania      0\n",
       "Rhode Island      0\n",
       "South Carolina    0\n",
       "South Dakota      0\n",
       "Tennessee         0\n",
       "Texas             0\n",
       "Utah              0\n",
       "Vermont           0\n",
       "Virginia          0\n",
       "Washington        0\n",
       "West Virginia     0\n",
       "Wisconsin         0\n",
       "Wyoming           0\n",
       "dtype: int64"
      ]
     },
     "execution_count": 50,
     "metadata": {},
     "output_type": "execute_result"
    }
   ],
   "source": [
    "census_data.isna().sum()"
   ]
  },
  {
   "cell_type": "code",
   "execution_count": 51,
   "metadata": {
    "scrolled": true
   },
   "outputs": [
    {
     "data": {
      "text/plain": [
       "0"
      ]
     },
     "execution_count": 51,
     "metadata": {},
     "output_type": "execute_result"
    }
   ],
   "source": [
    "census_data.duplicated().sum()"
   ]
  },
  {
   "cell_type": "code",
   "execution_count": 52,
   "metadata": {
    "scrolled": true
   },
   "outputs": [
    {
     "data": {
      "text/plain": [
       "0"
      ]
     },
     "execution_count": 52,
     "metadata": {},
     "output_type": "execute_result"
    }
   ],
   "source": [
    "gun_data.duplicated().sum()"
   ]
  },
  {
   "cell_type": "code",
   "execution_count": 86,
   "metadata": {
    "scrolled": true
   },
   "outputs": [
    {
     "data": {
      "text/plain": [
       "month                            0\n",
       "state                            0\n",
       "permit                          24\n",
       "permit_recheck               11385\n",
       "handgun                         20\n",
       "long_gun                        19\n",
       "other                         6985\n",
       "multiple                         0\n",
       "admin                           23\n",
       "prepawn_handgun               1943\n",
       "prepawn_long_gun              1945\n",
       "prepawn_other                 7370\n",
       "redemption_handgun            1940\n",
       "redemption_long_gun           1941\n",
       "redemption_other              7370\n",
       "returned_handgun             10285\n",
       "returned_long_gun            10340\n",
       "returned_other               10670\n",
       "rentals_handgun              11495\n",
       "rentals_long_gun             11660\n",
       "private_sale_handgun          9735\n",
       "private_sale_long_gun         9735\n",
       "private_sale_other            9735\n",
       "return_to_seller_handgun     10010\n",
       "return_to_seller_long_gun     9735\n",
       "return_to_seller_other       10230\n",
       "totals                           0\n",
       "dtype: int64"
      ]
     },
     "execution_count": 86,
     "metadata": {},
     "output_type": "execute_result"
    }
   ],
   "source": [
    "gun_data.isna().sum()"
   ]
  },
  {
   "cell_type": "code",
   "execution_count": 346,
   "metadata": {
    "scrolled": true
   },
   "outputs": [
    {
     "name": "stdout",
     "output_type": "stream",
     "text": [
      "<class 'pandas.core.frame.DataFrame'>\n",
      "Int64Index: 11350 entries, 0 to 12484\n",
      "Data columns (total 27 columns):\n",
      " #   Column                     Non-Null Count  Dtype         \n",
      "---  ------                     --------------  -----         \n",
      " 0   month                      11350 non-null  datetime64[ns]\n",
      " 1   state                      11350 non-null  object        \n",
      " 2   permit                     11348 non-null  float64       \n",
      " 3   permit_recheck             1000 non-null   float64       \n",
      " 4   handgun                    11350 non-null  float64       \n",
      " 5   long_gun                   11350 non-null  float64       \n",
      " 6   other                      5000 non-null   float64       \n",
      " 7   multiple                   11350 non-null  int64         \n",
      " 8   admin                      11348 non-null  float64       \n",
      " 9   prepawn_handgun            9597 non-null   float64       \n",
      " 10  prepawn_long_gun           9595 non-null   float64       \n",
      " 11  prepawn_other              4650 non-null   float64       \n",
      " 12  redemption_handgun         9600 non-null   float64       \n",
      " 13  redemption_long_gun        9598 non-null   float64       \n",
      " 14  redemption_other           4650 non-null   float64       \n",
      " 15  returned_handgun           2000 non-null   float64       \n",
      " 16  returned_long_gun          1950 non-null   float64       \n",
      " 17  returned_other             1650 non-null   float64       \n",
      " 18  rentals_handgun            900 non-null    float64       \n",
      " 19  rentals_long_gun           750 non-null    float64       \n",
      " 20  private_sale_handgun       2500 non-null   float64       \n",
      " 21  private_sale_long_gun      2500 non-null   float64       \n",
      " 22  private_sale_other         2500 non-null   float64       \n",
      " 23  return_to_seller_handgun   2250 non-null   float64       \n",
      " 24  return_to_seller_long_gun  2500 non-null   float64       \n",
      " 25  return_to_seller_other     2050 non-null   float64       \n",
      " 26  totals                     11350 non-null  int64         \n",
      "dtypes: datetime64[ns](1), float64(23), int64(2), object(1)\n",
      "memory usage: 2.7+ MB\n"
     ]
    }
   ],
   "source": [
    "gun_data['month'] = pd.to_datetime(gun_data['month'])\n",
    "gun_data.info()"
   ]
  },
  {
   "cell_type": "code",
   "execution_count": 109,
   "metadata": {
    "scrolled": true
   },
   "outputs": [
    {
     "name": "stdout",
     "output_type": "stream",
     "text": [
      "<class 'pandas.core.frame.DataFrame'>\n",
      "RangeIndex: 64 entries, 0 to 63\n",
      "Data columns (total 51 columns):\n",
      " #   Column          Non-Null Count  Dtype \n",
      "---  ------          --------------  ----- \n",
      " 0   Fact            64 non-null     object\n",
      " 1   Alabama         64 non-null     object\n",
      " 2   Alaska          64 non-null     object\n",
      " 3   Arizona         64 non-null     object\n",
      " 4   Arkansas        64 non-null     object\n",
      " 5   California      64 non-null     object\n",
      " 6   Colorado        64 non-null     object\n",
      " 7   Connecticut     64 non-null     object\n",
      " 8   Delaware        64 non-null     object\n",
      " 9   Florida         64 non-null     object\n",
      " 10  Georgia         64 non-null     object\n",
      " 11  Hawaii          64 non-null     object\n",
      " 12  Idaho           64 non-null     object\n",
      " 13  Illinois        64 non-null     object\n",
      " 14  Indiana         64 non-null     object\n",
      " 15  Iowa            64 non-null     object\n",
      " 16  Kansas          64 non-null     object\n",
      " 17  Kentucky        64 non-null     object\n",
      " 18  Louisiana       64 non-null     object\n",
      " 19  Maine           64 non-null     object\n",
      " 20  Maryland        64 non-null     object\n",
      " 21  Massachusetts   64 non-null     object\n",
      " 22  Michigan        64 non-null     object\n",
      " 23  Minnesota       64 non-null     object\n",
      " 24  Mississippi     64 non-null     object\n",
      " 25  Missouri        64 non-null     object\n",
      " 26  Montana         64 non-null     object\n",
      " 27  Nebraska        64 non-null     object\n",
      " 28  Nevada          64 non-null     object\n",
      " 29  New Hampshire   64 non-null     object\n",
      " 30  New Jersey      64 non-null     object\n",
      " 31  New Mexico      64 non-null     object\n",
      " 32  New York        64 non-null     object\n",
      " 33  North Carolina  64 non-null     object\n",
      " 34  North Dakota    64 non-null     object\n",
      " 35  Ohio            64 non-null     object\n",
      " 36  Oklahoma        64 non-null     object\n",
      " 37  Oregon          64 non-null     object\n",
      " 38  Pennsylvania    64 non-null     object\n",
      " 39  Rhode Island    64 non-null     object\n",
      " 40  South Carolina  64 non-null     object\n",
      " 41  South Dakota    64 non-null     object\n",
      " 42  Tennessee       64 non-null     object\n",
      " 43  Texas           64 non-null     object\n",
      " 44  Utah            64 non-null     object\n",
      " 45  Vermont         64 non-null     object\n",
      " 46  Virginia        64 non-null     object\n",
      " 47  Washington      64 non-null     object\n",
      " 48  West Virginia   64 non-null     object\n",
      " 49  Wisconsin       64 non-null     object\n",
      " 50  Wyoming         64 non-null     object\n",
      "dtypes: object(51)\n",
      "memory usage: 25.6+ KB\n"
     ]
    }
   ],
   "source": [
    "census_data.info()"
   ]
  },
  {
   "cell_type": "markdown",
   "metadata": {},
   "source": [
    "> Change the type of columns in census data so we could make math operation on it"
   ]
  },
  {
   "cell_type": "code",
   "execution_count": 137,
   "metadata": {},
   "outputs": [],
   "source": [
    "cl = census_data.iloc[: ,1: ].columns\n",
    "test = census_data.copy()\n",
    "\n",
    "for c in cl: \n",
    "    census_data[c] = census_data[c].str.replace(\"%\" , '')\n",
    "    census_data[c] = census_data[c].str.replace(',' , '')\n",
    "    census_data[c] = census_data[c].str.extract(r'(\\d+.\\d+)')\n",
    "    census_data[c] = census_data[c].astype(float)"
   ]
  },
  {
   "cell_type": "code",
   "execution_count": 138,
   "metadata": {
    "scrolled": true
   },
   "outputs": [
    {
     "name": "stdout",
     "output_type": "stream",
     "text": [
      "<class 'pandas.core.frame.DataFrame'>\n",
      "RangeIndex: 85 entries, 0 to 84\n",
      "Data columns (total 51 columns):\n",
      " #   Column          Non-Null Count  Dtype  \n",
      "---  ------          --------------  -----  \n",
      " 0   Fact            80 non-null     object \n",
      " 1   Alabama         64 non-null     float64\n",
      " 2   Alaska          62 non-null     float64\n",
      " 3   Arizona         64 non-null     float64\n",
      " 4   Arkansas        63 non-null     float64\n",
      " 5   California      63 non-null     float64\n",
      " 6   Colorado        64 non-null     float64\n",
      " 7   Connecticut     64 non-null     float64\n",
      " 8   Delaware        64 non-null     float64\n",
      " 9   Florida         64 non-null     float64\n",
      " 10  Georgia         64 non-null     float64\n",
      " 11  Hawaii          63 non-null     float64\n",
      " 12  Idaho           63 non-null     float64\n",
      " 13  Illinois        64 non-null     float64\n",
      " 14  Indiana         64 non-null     float64\n",
      " 15  Iowa            64 non-null     float64\n",
      " 16  Kansas          64 non-null     float64\n",
      " 17  Kentucky        63 non-null     float64\n",
      " 18  Louisiana       64 non-null     float64\n",
      " 19  Maine           63 non-null     float64\n",
      " 20  Maryland        64 non-null     float64\n",
      " 21  Massachusetts   64 non-null     float64\n",
      " 22  Michigan        63 non-null     float64\n",
      " 23  Minnesota       64 non-null     float64\n",
      " 24  Mississippi     64 non-null     float64\n",
      " 25  Missouri        64 non-null     float64\n",
      " 26  Montana         64 non-null     float64\n",
      " 27  Nebraska        64 non-null     float64\n",
      " 28  Nevada          64 non-null     float64\n",
      " 29  New Hampshire   64 non-null     float64\n",
      " 30  New Jersey      63 non-null     float64\n",
      " 31  New Mexico      63 non-null     float64\n",
      " 32  New York        64 non-null     float64\n",
      " 33  North Carolina  64 non-null     float64\n",
      " 34  North Dakota    64 non-null     float64\n",
      " 35  Ohio            64 non-null     float64\n",
      " 36  Oklahoma        64 non-null     float64\n",
      " 37  Oregon          64 non-null     float64\n",
      " 38  Pennsylvania    64 non-null     float64\n",
      " 39  Rhode Island    64 non-null     float64\n",
      " 40  South Carolina  64 non-null     float64\n",
      " 41  South Dakota    64 non-null     float64\n",
      " 42  Tennessee       64 non-null     float64\n",
      " 43  Texas           64 non-null     float64\n",
      " 44  Utah            64 non-null     float64\n",
      " 45  Vermont         63 non-null     float64\n",
      " 46  Virginia        64 non-null     float64\n",
      " 47  Washington      64 non-null     float64\n",
      " 48  West Virginia   63 non-null     float64\n",
      " 49  Wisconsin       64 non-null     float64\n",
      " 50  Wyoming         63 non-null     float64\n",
      "dtypes: float64(50), object(1)\n",
      "memory usage: 34.0+ KB\n"
     ]
    }
   ],
   "source": [
    "census_data.info()"
   ]
  },
  {
   "cell_type": "markdown",
   "metadata": {},
   "source": [
    "<a id='eda'></a>\n",
    "## Exploratory Data Analysis\n",
    "\n",
    "> **Tip**: Now that you've trimmed and cleaned your data, you're ready to move on to exploration. Compute statistics and create visualizations with the goal of addressing the research questions that you posed in the Introduction section. It is recommended that you be systematic with your approach. Look at one variable at a time, and then follow it up by looking at relationships between variables.\n",
    "\n",
    "### The highest purchages record happened in which state for the persons under 18 years, percent on April 1, 2010?"
   ]
  },
  {
   "cell_type": "code",
   "execution_count": null,
   "metadata": {},
   "outputs": [],
   "source": [
    "# Use this, and more code cells, to explore your data. Don't forget to add\n",
    "#   Markdown cells to document your observations and findings.\n"
   ]
  },
  {
   "cell_type": "code",
   "execution_count": 268,
   "metadata": {
    "scrolled": true
   },
   "outputs": [
    {
     "data": {
      "text/plain": [
       "'Utah'"
      ]
     },
     "execution_count": 268,
     "metadata": {},
     "output_type": "execute_result"
    }
   ],
   "source": [
    "ans = census_data.iloc[7 , 1:]\n",
    "ans = pd.to_numeric(ans)\n",
    "ans.idxmax()"
   ]
  },
  {
   "cell_type": "code",
   "execution_count": 270,
   "metadata": {},
   "outputs": [
    {
     "data": {
      "text/plain": [
       "31.5"
      ]
     },
     "execution_count": 270,
     "metadata": {},
     "output_type": "execute_result"
    }
   ],
   "source": [
    "ans.max()"
   ]
  },
  {
   "cell_type": "markdown",
   "metadata": {},
   "source": [
    "### What state is most associated with high gun per capita in 2010?"
   ]
  },
  {
   "cell_type": "code",
   "execution_count": null,
   "metadata": {},
   "outputs": [],
   "source": [
    "# Continue to explore the data to address your additional research\n",
    "#   questions. Add more headers as needed if you have more questions to\n",
    "#   investigate.\n"
   ]
  },
  {
   "cell_type": "code",
   "execution_count": 329,
   "metadata": {
    "scrolled": true
   },
   "outputs": [
    {
     "data": {
      "text/plain": [
       "Fact              Population estimates base, April 1, 2010,  (V2...\n",
       "Alabama                                                   4780131.0\n",
       "Alaska                                                     710249.0\n",
       "Arizona                                                   6392301.0\n",
       "Arkansas                                                  2916025.0\n",
       "California                                               37254522.0\n",
       "Colorado                                                  5029324.0\n",
       "Connecticut                                               3574114.0\n",
       "Delaware                                                   897936.0\n",
       "Florida                                                  18804592.0\n",
       "Georgia                                                   9688680.0\n",
       "Hawaii                                                    1360301.0\n",
       "Idaho                                                     1567650.0\n",
       "Illinois                                                 12831574.0\n",
       "Indiana                                                   6484136.0\n",
       "Iowa                                                      3046869.0\n",
       "Kansas                                                    2853129.0\n",
       "Kentucky                                                  4339344.0\n",
       "Louisiana                                                 4533479.0\n",
       "Maine                                                     1328364.0\n",
       "Maryland                                                  5773786.0\n",
       "Massachusetts                                             6547813.0\n",
       "Michigan                                                  9884129.0\n",
       "Minnesota                                                 5303924.0\n",
       "Mississippi                                               2968103.0\n",
       "Missouri                                                  5988928.0\n",
       "Montana                                                    989414.0\n",
       "Nebraska                                                  1826334.0\n",
       "Nevada                                                    2700691.0\n",
       "New Hampshire                                             1316461.0\n",
       "New Jersey                                                8791953.0\n",
       "New Mexico                                                2059198.0\n",
       "New York                                                 19378110.0\n",
       "North Carolina                                            9535688.0\n",
       "North Dakota                                               672591.0\n",
       "Ohio                                                     11536727.0\n",
       "Oklahoma                                                  3751615.0\n",
       "Oregon                                                    3831072.0\n",
       "Pennsylvania                                             12702857.0\n",
       "Rhode Island                                              1052940.0\n",
       "South Carolina                                            4625410.0\n",
       "South Dakota                                               814195.0\n",
       "Tennessee                                                 6346298.0\n",
       "Texas                                                    25146100.0\n",
       "Utah                                                      2763888.0\n",
       "Vermont                                                    625741.0\n",
       "Virginia                                                  8001041.0\n",
       "Washington                                                6724545.0\n",
       "West Virginia                                             1853011.0\n",
       "Wisconsin                                                 5687289.0\n",
       "Wyoming                                                    563767.0\n",
       "Name: 1, dtype: object"
      ]
     },
     "execution_count": 329,
     "metadata": {},
     "output_type": "execute_result"
    }
   ],
   "source": [
    "#check which columns for the 2010 year\n",
    "census_data.iloc[1, :]"
   ]
  },
  {
   "cell_type": "code",
   "execution_count": 355,
   "metadata": {
    "scrolled": true
   },
   "outputs": [
    {
     "data": {
      "text/plain": [
       "state\n",
       "Alabama            20791\n",
       "Alaska              6411\n",
       "Arizona            16578\n",
       "Arkansas           14563\n",
       "California         80750\n",
       "Colorado           23609\n",
       "Connecticut        15922\n",
       "Delaware            1439\n",
       "Florida            42794\n",
       "Georgia            24065\n",
       "Hawaii               963\n",
       "Idaho               7814\n",
       "Illinois           53929\n",
       "Indiana            25232\n",
       "Iowa                9720\n",
       "Kansas              9529\n",
       "Kentucky          211261\n",
       "Louisiana          13373\n",
       "Maine               5073\n",
       "Maryland            6992\n",
       "Massachusetts       8748\n",
       "Michigan           29383\n",
       "Minnesota          26351\n",
       "Mississippi         9702\n",
       "Missouri           26289\n",
       "Montana             8367\n",
       "Nebraska            4141\n",
       "Nevada              9294\n",
       "New Hampshire       6911\n",
       "New Jersey          4215\n",
       "New Mexico          8599\n",
       "New York           19906\n",
       "North Carolina     23378\n",
       "North Dakota        3726\n",
       "Ohio               31312\n",
       "Oklahoma           17750\n",
       "Oregon             16031\n",
       "Pennsylvania       50249\n",
       "Rhode Island        1199\n",
       "South Carolina     14441\n",
       "South Dakota        4561\n",
       "Tennessee          30453\n",
       "Texas              65012\n",
       "Utah              109391\n",
       "Vermont             2053\n",
       "Virginia           44137\n",
       "Washington         27816\n",
       "West Virginia      11180\n",
       "Wisconsin          16471\n",
       "Wyoming             4013\n",
       "Name: totals, dtype: int64"
      ]
     },
     "execution_count": 355,
     "metadata": {},
     "output_type": "execute_result"
    }
   ],
   "source": [
    "# sync the states and set it as index so it kinda as groupby state then get the sum of totals for the same state\n",
    "test = gun_data.copy()\n",
    "test.set_index('state')\n",
    "tot_gun_2010 = test[test.month == '2010-04']\n",
    "tot_gun_2010.set_index('state' , inplace = True)\n",
    "tot_gun_2010.totals"
   ]
  },
  {
   "cell_type": "code",
   "execution_count": 315,
   "metadata": {},
   "outputs": [],
   "source": [
    "# Use assertation function to confirm 'state' columns' elements from both dataframe are idental \n",
    "state_data_2010 = census_data.iloc[1,1:]\n",
    "assert(tot_gun_2010.index.tolist() == state_data_2010.index.tolist())"
   ]
  },
  {
   "cell_type": "code",
   "execution_count": 321,
   "metadata": {
    "scrolled": true
   },
   "outputs": [
    {
     "data": {
      "text/plain": [
       "'Kentucky'"
      ]
     },
     "execution_count": 321,
     "metadata": {},
     "output_type": "execute_result"
    }
   ],
   "source": [
    "#check the highest state that have gun per capita \n",
    "avg_2010 = tot_gun_2010.totals / state_data_2010\n",
    "avg_2010.astype(float).idxmax()"
   ]
  },
  {
   "cell_type": "code",
   "execution_count": 361,
   "metadata": {
    "scrolled": true
   },
   "outputs": [
    {
     "data": {
      "text/plain": [
       "0.04868500860959629"
      ]
     },
     "execution_count": 361,
     "metadata": {},
     "output_type": "execute_result"
    }
   ],
   "source": [
    "#and its value \n",
    "avg_2010.max()\n"
   ]
  },
  {
   "cell_type": "markdown",
   "metadata": {},
   "source": [
    "### What state is most associated with high gun per capita in 2016?"
   ]
  },
  {
   "cell_type": "code",
   "execution_count": 333,
   "metadata": {
    "scrolled": true
   },
   "outputs": [
    {
     "data": {
      "text/plain": [
       "Alabama            4863300.0\n",
       "Alaska              741894.0\n",
       "Arizona            6931071.0\n",
       "Arkansas           2988248.0\n",
       "California        39250017.0\n",
       "Colorado           5540545.0\n",
       "Connecticut        3576452.0\n",
       "Delaware            952065.0\n",
       "Florida           20612439.0\n",
       "Georgia           10310371.0\n",
       "Hawaii             1428557.0\n",
       "Idaho              1683140.0\n",
       "Illinois          12801539.0\n",
       "Indiana            6633053.0\n",
       "Iowa               3134693.0\n",
       "Kansas             2907289.0\n",
       "Kentucky           4436974.0\n",
       "Louisiana          4681666.0\n",
       "Maine              1331479.0\n",
       "Maryland           6016447.0\n",
       "Massachusetts      6811779.0\n",
       "Michigan           9928300.0\n",
       "Minnesota          5519952.0\n",
       "Mississippi        2988726.0\n",
       "Missouri           6093000.0\n",
       "Montana            1042520.0\n",
       "Nebraska           1907116.0\n",
       "Nevada             2940058.0\n",
       "New Hampshire      1334795.0\n",
       "New Jersey         8944469.0\n",
       "New Mexico         2081015.0\n",
       "New York          19745289.0\n",
       "North Carolina    10146788.0\n",
       "North Dakota        757952.0\n",
       "Ohio              11614373.0\n",
       "Oklahoma           3923561.0\n",
       "Oregon             4093465.0\n",
       "Pennsylvania      12784227.0\n",
       "Rhode Island       1056426.0\n",
       "South Carolina     4961119.0\n",
       "South Dakota        865454.0\n",
       "Tennessee          6651194.0\n",
       "Texas             27862596.0\n",
       "Utah               3051217.0\n",
       "Vermont             624594.0\n",
       "Virginia           8411808.0\n",
       "Washington         7288000.0\n",
       "West Virginia      1831102.0\n",
       "Wisconsin          5778708.0\n",
       "Wyoming             585501.0\n",
       "Name: 0, dtype: object"
      ]
     },
     "execution_count": 333,
     "metadata": {},
     "output_type": "execute_result"
    }
   ],
   "source": [
    "state_data_2016 = census_data.iloc[0,1:]\n",
    "state_data_2016"
   ]
  },
  {
   "cell_type": "code",
   "execution_count": 357,
   "metadata": {
    "scrolled": true
   },
   "outputs": [
    {
     "data": {
      "text/plain": [
       "state\n",
       "Alabama            44976\n",
       "Alaska              7406\n",
       "Arizona            32540\n",
       "Arkansas           18779\n",
       "California        173846\n",
       "Colorado           41134\n",
       "Connecticut        33475\n",
       "Delaware            4987\n",
       "Florida           125567\n",
       "Georgia            42626\n",
       "Hawaii              1754\n",
       "Idaho              12947\n",
       "Illinois          164500\n",
       "Indiana            94326\n",
       "Iowa               12209\n",
       "Kansas             12364\n",
       "Kentucky          360293\n",
       "Louisiana          26278\n",
       "Maine               7858\n",
       "Maryland           11647\n",
       "Massachusetts      17743\n",
       "Michigan           39580\n",
       "Minnesota          47916\n",
       "Mississippi        17507\n",
       "Missouri           45384\n",
       "Montana            10610\n",
       "Nebraska            5777\n",
       "Nevada             11771\n",
       "New Hampshire      12661\n",
       "New Jersey         10806\n",
       "New Mexico         12560\n",
       "New York           28472\n",
       "North Carolina     44535\n",
       "North Dakota        6568\n",
       "Ohio               60366\n",
       "Oklahoma           26167\n",
       "Oregon             25502\n",
       "Pennsylvania       80806\n",
       "Rhode Island        2302\n",
       "South Carolina     30209\n",
       "South Dakota        7519\n",
       "Tennessee          56218\n",
       "Texas             120263\n",
       "Utah               28189\n",
       "Vermont             2688\n",
       "Virginia           37593\n",
       "Washington         50487\n",
       "West Virginia      16423\n",
       "Wisconsin          30747\n",
       "Wyoming             4812\n",
       "Name: totals, dtype: int64"
      ]
     },
     "execution_count": 357,
     "metadata": {},
     "output_type": "execute_result"
    }
   ],
   "source": [
    "tot_gun_2016 = test[test.month == '2016-06-01']\n",
    "tot_gun_2016.set_index('state' , inplace = True)\n",
    "tot_gun_2016.totals"
   ]
  },
  {
   "cell_type": "code",
   "execution_count": 358,
   "metadata": {
    "scrolled": true
   },
   "outputs": [
    {
     "data": {
      "text/plain": [
       "'Kentucky'"
      ]
     },
     "execution_count": 358,
     "metadata": {},
     "output_type": "execute_result"
    }
   ],
   "source": [
    "#check the highest state that have gun per capita \n",
    "avg_2016 = tot_gun_2016.totals / state_data_2016\n",
    "avg_2016.astype(float).idxmax()"
   ]
  },
  {
   "cell_type": "code",
   "execution_count": 360,
   "metadata": {},
   "outputs": [
    {
     "data": {
      "text/plain": [
       "0.08120241407770251"
      ]
     },
     "execution_count": 360,
     "metadata": {},
     "output_type": "execute_result"
    }
   ],
   "source": [
    "avg_2016.max()"
   ]
  },
  {
   "cell_type": "markdown",
   "metadata": {},
   "source": [
    "it look like kentucky have a safty crice :\""
   ]
  },
  {
   "cell_type": "markdown",
   "metadata": {},
   "source": [
    "### What is the estimated number of civilians gun registration per capita by states in 2010 and 2016?"
   ]
  },
  {
   "cell_type": "code",
   "execution_count": 396,
   "metadata": {
    "scrolled": true
   },
   "outputs": [
    {
     "data": {
      "text/plain": [
       "308156339.0"
      ]
     },
     "execution_count": 396,
     "metadata": {},
     "output_type": "execute_result"
    }
   ],
   "source": [
    "# first i want the total of all satate in 2010 and 2016 and the gun data for all states\n",
    "all_2010 = census_data.iloc[1,1:]\n",
    "all_2016 = census_data.iloc[0,1:]\n",
    "test = gun_data.copy()\n",
    "l = [ 'permit', 'permit_recheck', 'handgun', 'long_gun',\n",
    "       'other', 'multiple', 'admin', 'prepawn_handgun', 'prepawn_long_gun',\n",
    "       'prepawn_other', 'redemption_handgun', 'redemption_long_gun',\n",
    "       'redemption_other', 'returned_handgun', 'returned_long_gun',\n",
    "       'returned_other', 'rentals_handgun', 'rentals_long_gun',\n",
    "       'private_sale_handgun', 'private_sale_long_gun', 'private_sale_other',\n",
    "       'return_to_seller_handgun', 'return_to_seller_long_gun',\n",
    "       'return_to_seller_other']\n",
    "test.drop(l , axis = 1 , inplace = True)\n",
    "gun_2010 = test[test.month == '2010-04-01'].totals.sum()\n",
    "gun_2010\n",
    "gun_2016 = test[test.month == '2016-06-01'].totals.sum()\n"
   ]
  },
  {
   "cell_type": "code",
   "execution_count": 407,
   "metadata": {},
   "outputs": [],
   "source": [
    "# Convert to a percentage \n",
    "def to_percent(value):\n",
    "    if value > 0.001:\n",
    "        result = value *100\n",
    "    return result "
   ]
  },
  {
   "cell_type": "code",
   "execution_count": 408,
   "metadata": {},
   "outputs": [
    {
     "data": {
      "text/plain": [
       "0.3978133320178106"
      ]
     },
     "execution_count": 408,
     "metadata": {},
     "output_type": "execute_result"
    }
   ],
   "source": [
    "capita_2010 = gun_2010 / all_2010.sum()\n",
    "to_percent(capita_2010) "
   ]
  },
  {
   "cell_type": "code",
   "execution_count": 409,
   "metadata": {},
   "outputs": [
    {
     "data": {
      "text/plain": [
       "0.6579987790402696"
      ]
     },
     "execution_count": 409,
     "metadata": {},
     "output_type": "execute_result"
    }
   ],
   "source": [
    "capita_2016 = gun_2016/all_2016.sum()\n",
    "to_percent(capita_2016)"
   ]
  },
  {
   "cell_type": "code",
   "execution_count": 420,
   "metadata": {},
   "outputs": [],
   "source": [
    "def draw_plot(x , y , x_lable = 'x' , y_lable = 'y' , title = 'title'):\n",
    "    plt.title(title)\n",
    "    plt.xlabel(x_lable)\n",
    "    plt.ylabel(y_lable)\n",
    "    plt.plot(x, y)\n",
    "    plt.show()\n",
    "    "
   ]
  },
  {
   "cell_type": "code",
   "execution_count": 421,
   "metadata": {
    "scrolled": false
   },
   "outputs": [
    {
     "data": {
      "image/png": "[encoded data removed]",
      "text/plain": [
       "<Figure size 432x288 with 1 Axes>"
      ]
     },
     "metadata": {
      "needs_background": "light"
     },
     "output_type": "display_data"
    }
   ],
   "source": [
    "years = [2010 , 2016]\n",
    "capitas = [capita_2010 , capita_2016]\n",
    "draw_plot(years , capitas , x_lable = 'per_capita %', y_lable = 'year' , title ='Gun per Capita' )"
   ]
  },
  {
   "cell_type": "markdown",
   "metadata": {},
   "source": [
    "> it's look like that the gun per capita is increasing by time as :\n",
    "> - in 2010 it was 0,39781 % \n",
    "> - in 2016 it became 0,657998 %"
   ]
  },
  {
   "cell_type": "markdown",
   "metadata": {},
   "source": [
    "### Which states have had the highest growth in gun registrations?"
   ]
  },
  {
   "cell_type": "code",
   "execution_count": 6,
   "metadata": {},
   "outputs": [
    {
     "data": {
      "text/plain": [
       "state\n",
       "Alabama         2017-09-01\n",
       "Alaska          2017-09-01\n",
       "Arizona         2017-09-01\n",
       "Arkansas        2017-09-01\n",
       "California      2017-09-01\n",
       "                   ...    \n",
       "Virginia        1998-11-01\n",
       "Washington      1998-11-01\n",
       "West Virginia   1998-11-01\n",
       "Wisconsin       1998-11-01\n",
       "Wyoming         1998-11-01\n",
       "Name: month, Length: 12485, dtype: datetime64[ns]"
      ]
     },
     "execution_count": 6,
     "metadata": {},
     "output_type": "execute_result"
    }
   ],
   "source": [
    "#to check the growth we should detrimne the date we will check about in this case since the first and last date\n",
    "#then we dicrease the min total from the max total to get the hightes change \n",
    "gun_all = gun_data.copy()\n",
    "gun_all.set_index('state' , inplace = True)\n",
    "gun_all['month'] = pd.to_datetime(gun_all['month'])\n",
    "gun_all.month"
   ]
  },
  {
   "cell_type": "code",
   "execution_count": 7,
   "metadata": {},
   "outputs": [],
   "source": [
    "\n",
    "cur_date = gun_all.month.max()\n",
    "start_date = gun_all.month.min()"
   ]
  },
  {
   "cell_type": "code",
   "execution_count": 8,
   "metadata": {},
   "outputs": [],
   "source": [
    "grow_tot = gun_all[gun_all.month == cur_date].totals - gun_all.loc[gun_all.month == start_date].totals"
   ]
  },
  {
   "cell_type": "code",
   "execution_count": 9,
   "metadata": {
    "scrolled": true
   },
   "outputs": [
    {
     "name": "stdout",
     "output_type": "stream",
     "text": [
      "397866\n",
      "Kentucky\n"
     ]
    },
    {
     "data": {
      "image/png": "[encoded data removed]",
      "text/plain": [
       "<Figure size 432x288 with 1 Axes>"
      ]
     },
     "metadata": {
      "needs_background": "light"
     },
     "output_type": "display_data"
    }
   ],
   "source": [
    "grow_tot.plot(x = grow_tot.index , y = grow_tot , kind = 'bar' );\n",
    "#plt.hist(x = grow_tot , label = 'test');\n",
    "print(grow_tot.max())\n",
    "print(grow_tot.idxmax())\n"
   ]
  },
  {
   "cell_type": "code",
   "execution_count": 20,
   "metadata": {
    "scrolled": true
   },
   "outputs": [
    {
     "data": {
      "text/plain": [
       "state\n",
       "Kentucky                397866\n",
       "Texas                   125466\n",
       "California              121405\n",
       "Illinois                116427\n",
       "Pennsylvania             76986\n",
       "Florida                  76578\n",
       "Tennessee                50838\n",
       "Ohio                     48990\n",
       "Indiana                  48177\n",
       "Minnesota                44233\n",
       "Washington               42688\n",
       "Wisconsin                37265\n",
       "Missouri                 36993\n",
       "Virginia                 36422\n",
       "North Carolina           36015\n",
       "Michigan                 35919\n",
       "Georgia                  35309\n",
       "Colorado                 35251\n",
       "Alabama                  30957\n",
       "New York                 30384\n",
       "Arizona                  28015\n",
       "Louisiana                27022\n",
       "Oregon                   26933\n",
       "South Carolina           25924\n",
       "Oklahoma                 22738\n",
       "Utah                     19774\n",
       "Arkansas                 17158\n",
       "Mississippi              16707\n",
       "West Virginia            16315\n",
       "Massachusetts            15417\n",
       "Idaho                    14762\n",
       "Kansas                   12458\n",
       "New Mexico               12280\n",
       "Connecticut              12037\n",
       "Maryland                 10937\n",
       "New Hampshire            10634\n",
       "Montana                  10082\n",
       "Iowa                      9493\n",
       "Nevada                    9301\n",
       "Maine                     8615\n",
       "South Dakota              7383\n",
       "New Jersey                7088\n",
       "Alaska                    6158\n",
       "Nebraska                  5159\n",
       "North Dakota              5154\n",
       "Wyoming                   4174\n",
       "Delaware                  3447\n",
       "Vermont                   3025\n",
       "Rhode Island              1761\n",
       "Hawaii                     920\n",
       "Puerto Rico                789\n",
       "Guam                       135\n",
       "District of Columbia        61\n",
       "Mariana Islands             16\n",
       "Virgin Islands               9\n",
       "Name: totals, dtype: int64"
      ]
     },
     "execution_count": 20,
     "metadata": {},
     "output_type": "execute_result"
    }
   ],
   "source": [
    "# the top 10 states are \n",
    "grow_tot.sort_values(ascending = False )"
   ]
  },
  {
   "cell_type": "markdown",
   "metadata": {},
   "source": [
    "> the top 10 states are:  \n",
    "> - Kentucky  :              397866\n",
    "> - Texas      :             125466\n",
    "> - California  :            121405\n",
    "> - Illinois     :           116427\n",
    "> - Pennsylvania  :           76986\n",
    "> - Florida        :          76578\n",
    "> - Tennessee       :         50838\n",
    "> - Ohio             :        48990\n",
    "> - Indiana           :       48177\n",
    "> - Minnesota          :      44233"
   ]
  },
  {
   "cell_type": "markdown",
   "metadata": {},
   "source": [
    "from the chart we can see that kentucky has the most grow in gun per capita "
   ]
  },
  {
   "cell_type": "markdown",
   "metadata": {},
   "source": [
    "### What is the overall trend of gun purchases?"
   ]
  },
  {
   "cell_type": "code",
   "execution_count": 501,
   "metadata": {
    "scrolled": true
   },
   "outputs": [
    {
     "data": {
      "text/plain": [
       "[74053083.0, 97370026.0, 1982594.0, 3353513]"
      ]
     },
     "execution_count": 501,
     "metadata": {},
     "output_type": "execute_result"
    }
   ],
   "source": [
    "gun_data.columns\n",
    "gunlist = ['handgun', 'long_gun','other', 'multiple']\n",
    "gun_df=gun_data[gunlist]\n",
    "purchases = [gun_df.handgun.sum() , gun_df.long_gun.sum() , gun_df.other.sum() , gun_df.multiple.sum()]\n",
    "purchases"
   ]
  },
  {
   "cell_type": "code",
   "execution_count": 512,
   "metadata": {
    "scrolled": false
   },
   "outputs": [
    {
     "data": {
      "image/png": "[encoded data removed]",
      "text/plain": [
       "<Figure size 432x288 with 1 Axes>"
      ]
     },
     "metadata": {
      "needs_background": "light"
     },
     "output_type": "display_data"
    }
   ],
   "source": [
    "xgun = np.arange(len(gunlist))\n",
    "plt.xticks(xgun, gunlist );\n",
    "plt.ylabel('number of purchases')\n",
    "plt.title('Gun Trend over all')\n",
    "plt.bar(xgun, purchases )\n",
    "plt.show();"
   ]
  },
  {
   "cell_type": "markdown",
   "metadata": {},
   "source": [
    "as we can see that the long gun is the most selling gun over all the data "
   ]
  },
  {
   "cell_type": "markdown",
   "metadata": {},
   "source": [
    "## References\n",
    "> - https://stackoverflow.com/questions/48719937/getting-typeerror-reduction-operation-argmax-not-allowed-for-this-dtype-when\n",
    "> - https://pandas.pydata.org/docs/reference/api/pandas.DataFrame.plot.html\n",
    "> - https://sparkbyexamples.com/pandas/pandas-set-index-to-column-in-dataframe/#:~:text=In%20order%20to%20set%20index,row%20of%20the%20pandas%20DataFrame.\n",
    "> - https://www.kaggle.com/ekami66/detailed-exploratory-data-analysis-with-python"
   ]
  },
  {
   "cell_type": "markdown",
   "metadata": {},
   "source": [
    "<a id='conclusions'></a>\n",
    "## Conclusions\n",
    "\n",
    "> At the end and in conclusions, the gun and census data shared similar data sucha as states and date comparing and constrsting both data by conuntries and data would give the idea about the gun registration per capita in any year you want like 2010 and 2016 from the above caluclation you found out that the gun registration per capita in 2010 is 0.39% and in 2016 it go up to 0,678 % that mean the gun registration in those states are very high and it go up in a short time i think if the same statistics apply on the day data it would be bigger  \n",
    "\n",
    "> about the limitation when it comes to there are missing data for some states and not clean data "
   ]
  }
 ],
 "metadata": {
  "kernelspec": {
   "display_name": "Python 3 (ipykernel)",
   "language": "python",
   "name": "python3"
  },
  "language_info": {
   "codemirror_mode": {
    "name": "ipython",
    "version": 3
   },
   "file_extension": ".py",
   "mimetype": "text/x-python",
   "name": "python",
   "nbconvert_exporter": "python",
   "pygments_lexer": "ipython3",
   "version": "3.9.7"
  }
 },
 "nbformat": 4,
 "nbformat_minor": 2
}
